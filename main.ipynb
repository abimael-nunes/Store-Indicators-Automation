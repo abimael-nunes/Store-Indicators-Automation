{
 "cells": [
  {
   "cell_type": "markdown",
   "metadata": {},
   "source": [
    "### Step 1 - Import Archives and Librarys"
   ]
  },
  {
   "cell_type": "code",
   "execution_count": 12,
   "metadata": {},
   "outputs": [],
   "source": [
    "import pandas as pd\n",
    "import pathlib as pl\n",
    "import win32com.client as win32\n",
    "import pythoncom"
   ]
  },
  {
   "cell_type": "code",
   "execution_count": 13,
   "metadata": {},
   "outputs": [],
   "source": [
    "emails = pd.read_excel(r'Databases/emails.xlsx')\n",
    "stores = pd.read_csv(r'Databases/stores.csv', encoding='latin-1', sep=';')   # Using latin-1 encoding because the file has some characteres not recognized by utf-8\n",
    "sales = pd.read_excel(r'Databases/sales.xlsx')"
   ]
  },
  {
   "cell_type": "markdown",
   "metadata": {},
   "source": [
    "### Step 2 - Define one sheet to each store and definne the indicator day\n"
   ]
  },
  {
   "cell_type": "code",
   "execution_count": 14,
   "metadata": {},
   "outputs": [],
   "source": [
    "# include store name to \"sales\"\n",
    "\n",
    "sales = sales.merge(stores, on='Store ID')"
   ]
  },
  {
   "cell_type": "code",
   "execution_count": 15,
   "metadata": {},
   "outputs": [],
   "source": [
    "store_dictionary = {}\n",
    "\n",
    "for item in stores['Store']:\n",
    "    store_dictionary[item] = sales.loc[sales['Store']==item, :]"
   ]
  },
  {
   "cell_type": "code",
   "execution_count": 16,
   "metadata": {},
   "outputs": [],
   "source": [
    "# Find the latest day available and get its data\n",
    "\n",
    "indicator_day = sales['Date'].max()"
   ]
  },
  {
   "cell_type": "markdown",
   "metadata": {},
   "source": [
    "### Step 3 - Save the sheets in the Backup folder\n"
   ]
  },
  {
   "cell_type": "code",
   "execution_count": 17,
   "metadata": {},
   "outputs": [],
   "source": [
    "# identify if folder already exists\n",
    "backup_path = pl.Path(r'Backup')\n",
    "backup_folder_files = backup_path.iterdir()\n",
    "backup_name_list = []\n",
    "\n",
    "for file in backup_folder_files:\n",
    "    backup_name_list.append(file.name)"
   ]
  },
  {
   "cell_type": "code",
   "execution_count": 18,
   "metadata": {},
   "outputs": [],
   "source": [
    "# save inside the respective folder\n",
    "for store in store_dictionary:\n",
    "    if store not in backup_name_list:\n",
    "        new_folder = backup_path / store\n",
    "        new_folder.mkdir()\n",
    "\n",
    "    file_name = '{}_{}_{}.xlsx'.format(indicator_day.month, indicator_day.day, store)\n",
    "\n",
    "    file_path = backup_path / store / file_name\n",
    "\n",
    "    store_dictionary[store].to_excel(file_path)\n"
   ]
  },
  {
   "cell_type": "markdown",
   "metadata": {},
   "source": [
    "### Step 4 - Calculate the indicators (Revenue from the year, revenue from the last day in dataframe, product diversity from sales and average ticket from each store)\n"
   ]
  },
  {
   "cell_type": "code",
   "execution_count": 19,
   "metadata": {},
   "outputs": [],
   "source": [
    "for store in store_dictionary:\n",
    "    store_sales_year = store_dictionary[store]\n",
    "    store_sales_day = store_sales_year.loc[store_sales_year['Date']==indicator_day, :]\n",
    "\n",
    "    # Revenue indicators\n",
    "    revenue_year = store_sales_year['Final Value'].sum()\n",
    "    revenue_day = store_sales_day['Final Value'].sum()\n",
    "\n",
    "    # Product diversity indicators\n",
    "    product_amount_year = len(store_sales_year['Product'].unique())\n",
    "    product_amount_day = len(store_sales_day['Product'].unique())\n",
    "\n",
    "    # Average ticket indicators\n",
    "    sale_values_year = store_sales_year.groupby('Sale Code').sum('Final Value')\n",
    "    sale_values_day = store_sales_day.groupby('Sale Code').sum('Final Value')\n",
    "    average_ticket_year = sale_values_year['Final Value'].mean()\n",
    "    average_ticket_day = sale_values_day['Final Value'].mean()"
   ]
  },
  {
   "cell_type": "code",
   "execution_count": 20,
   "metadata": {},
   "outputs": [],
   "source": [
    "# Define goals\n",
    "revenue_year_goal = 1000\n",
    "revenue_day_goal = 1650000\n",
    "product_amount_year_goal = 4\n",
    "product_amount_day_goal = 120\n",
    "average_ticket_year_goal = 500\n",
    "average_ticket_day_goal = 500\n"
   ]
  },
  {
   "cell_type": "markdown",
   "metadata": {},
   "source": [
    "### Step 5 - Send email to the store manager\n"
   ]
  },
  {
   "cell_type": "code",
   "execution_count": 21,
   "metadata": {},
   "outputs": [
    {
     "name": "stdout",
     "output_type": "stream",
     "text": [
      "c:\\Users\\Pichau\\Documents\\GitHub\\Store-Indicators-Automation\\Backup\\Shopping Barra\\12_26_Shopping Barra.xlsx\n"
     ]
    }
   ],
   "source": [
    "attachment = pl.Path.cwd() / backup_path / store / '{}_{}_{}.xlsx'.format(indicator_day.month, indicator_day.day, store)\n",
    "\n",
    "print(attachment)"
   ]
  },
  {
   "cell_type": "code",
   "execution_count": 23,
   "metadata": {},
   "outputs": [],
   "source": [
    "outlook = win32.Dispatch('outlook.application', pythoncom.CoInitialize())\n",
    "\n",
    "name = emails.loc[emails['Store']==store, 'Manager'].values[0]\n",
    "mail = outlook.CreateItem(0)\n",
    "mail.To = emails.loc[emails['Store']==store, 'Email'].values[0]\n",
    "mail.Subject = 'Indicators - Date {}/{} ({})'.format(indicator_day.month, indicator_day.day, store)\n",
    "# Use mail.Body if you want to make a simple text mail.\n",
    "mail.HTMLBody = '''\n",
    "<p>Hi {},</p>\n",
    "\n",
    "<p>Attached is the financial report for the <strong>{}</strong> store from <strong>yesterday ({}/{})</strong>.</p>\n",
    "\n",
    "<p>&nbsp;</p>\n",
    "\n",
    "<p>Here is a brief summary:</p>\n",
    "\n",
    "<table align=\"center\" border=\"1\" cellpadding=\"1\" cellspacing=\"1\" style=\"width:500px\">\n",
    "\t<thead>\n",
    "\t\t<tr>\n",
    "\t\t\t<th scope=\"col\">Indicator</th>\n",
    "\t\t\t<th scope=\"col\">Day Value</th>\n",
    "\t\t\t<th scope=\"col\">Day Goal</th>\n",
    "\t\t\t<th scope=\"col\">Day Scenario</th>\n",
    "\t\t</tr>\n",
    "\t</thead>\n",
    "\t<tbody>\n",
    "\t\t<tr>\n",
    "\t\t\t<td>\n",
    "\t\t\t<p>Revenue</p>\n",
    "\t\t\t</td>\n",
    "\t\t\t<td style=\"text-align: center;\">{}</td>\n",
    "\t\t\t<td style=\"text-align: center;\">{}</td>\n",
    "\t\t\t<td style=\"text-align: center;\">◙</td>\n",
    "\t\t</tr>\n",
    "\t\t<tr>\n",
    "\t\t\t<td>\n",
    "\t\t\t<p>Product Diversity</p>\n",
    "\t\t\t</td>\n",
    "\t\t\t<td style=\"text-align: center;\">{}</td>\n",
    "\t\t\t<td style=\"text-align: center;\">{}</td>\n",
    "\t\t\t<td style=\"text-align: center;\">◙</td>\n",
    "\t\t</tr>\n",
    "\t\t<tr>\n",
    "\t\t\t<td>\n",
    "\t\t\t<p>Average Ticket</p>\n",
    "\t\t\t</td>\n",
    "\t\t\t<td style=\"text-align: center;\">{}</td>\n",
    "\t\t\t<td style=\"text-align: center;\">{}</td>\n",
    "\t\t\t<td style=\"text-align: center;\">◙</td>\n",
    "\t\t</tr>\n",
    "\t</tbody>\n",
    "</table>\n",
    "\n",
    "<p>&nbsp;</p>\n",
    "\n",
    "<hr />\n",
    "<p style=\"text-align: center;\"><strong>Please note that this is an automated email. For any questions, please contact the headquarter.</strong></p>\n",
    "\n",
    "<p style=\"text-align: center;\">&nbsp;</p>\n",
    "\n",
    "<p style=\"text-align: center;\">Best regards,</p>\n",
    "\n",
    "<p style=\"text-align: center;\">SIA - Store Indicators Automation.</p>\n",
    "'''\n",
    "\n",
    "attachment = pl.Path.cwd() / backup_path / store / '{}_{}_{}.xlsx'.format(indicator_day.month, indicator_day.day, store)\n",
    "mail.Attachments.Add(str(attachment))\n",
    "\n",
    "mail.Send()"
   ]
  },
  {
   "cell_type": "markdown",
   "metadata": {},
   "source": [
    "### Step 6 - Automate every store\n"
   ]
  },
  {
   "cell_type": "code",
   "execution_count": null,
   "metadata": {},
   "outputs": [],
   "source": []
  },
  {
   "cell_type": "markdown",
   "metadata": {},
   "source": [
    "### Step 7 - Create ranking for the director of the company\n"
   ]
  },
  {
   "cell_type": "code",
   "execution_count": null,
   "metadata": {},
   "outputs": [],
   "source": []
  },
  {
   "cell_type": "markdown",
   "metadata": {},
   "source": [
    "### Step 8 - Send email to the director"
   ]
  },
  {
   "cell_type": "code",
   "execution_count": null,
   "metadata": {},
   "outputs": [],
   "source": []
  }
 ],
 "metadata": {
  "kernelspec": {
   "display_name": "Python 3",
   "language": "python",
   "name": "python3"
  },
  "language_info": {
   "codemirror_mode": {
    "name": "ipython",
    "version": 3
   },
   "file_extension": ".py",
   "mimetype": "text/x-python",
   "name": "python",
   "nbconvert_exporter": "python",
   "pygments_lexer": "ipython3",
   "version": "3.11.5"
  }
 },
 "nbformat": 4,
 "nbformat_minor": 2
}
