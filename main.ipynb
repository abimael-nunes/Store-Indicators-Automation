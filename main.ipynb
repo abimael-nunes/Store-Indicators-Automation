{
 "cells": [
  {
   "cell_type": "markdown",
   "metadata": {},
   "source": [
    "### Step 1 - Import Archives and Librarys"
   ]
  },
  {
   "cell_type": "code",
   "execution_count": 1,
   "metadata": {},
   "outputs": [],
   "source": [
    "import pandas as pd\n",
    "import pathlib as pl\n",
    "import win32com.client as win32\n",
    "import pythoncom"
   ]
  },
  {
   "cell_type": "code",
   "execution_count": 2,
   "metadata": {},
   "outputs": [],
   "source": [
    "emails = pd.read_excel(r'Databases/emails.xlsx')\n",
    "stores = pd.read_csv(r'Databases/stores.csv', encoding='latin-1', sep=';')   # Using latin-1 encoding because the file has some characteres not recognized by utf-8\n",
    "sales = pd.read_excel(r'Databases/sales.xlsx')"
   ]
  },
  {
   "cell_type": "markdown",
   "metadata": {},
   "source": [
    "### Step 2 - Define one sheet to each store and definne the indicator day\n"
   ]
  },
  {
   "cell_type": "code",
   "execution_count": 3,
   "metadata": {},
   "outputs": [],
   "source": [
    "# include store name to \"sales\"\n",
    "\n",
    "sales = sales.merge(stores, on='Store ID')"
   ]
  },
  {
   "cell_type": "code",
   "execution_count": 4,
   "metadata": {},
   "outputs": [],
   "source": [
    "store_dictionary = {}\n",
    "\n",
    "for item in stores['Store']:\n",
    "    store_dictionary[item] = sales.loc[sales['Store']==item, :]"
   ]
  },
  {
   "cell_type": "code",
   "execution_count": 5,
   "metadata": {},
   "outputs": [],
   "source": [
    "# Find the latest day available and get its data\n",
    "\n",
    "indicator_day = sales['Date'].max()"
   ]
  },
  {
   "cell_type": "markdown",
   "metadata": {},
   "source": [
    "### Step 3 - Save the sheets in the Backup folder\n"
   ]
  },
  {
   "cell_type": "code",
   "execution_count": 6,
   "metadata": {},
   "outputs": [],
   "source": [
    "# identify if folder already exists\n",
    "backup_path = pl.Path(r'Backup')\n",
    "backup_folder_files = backup_path.iterdir()\n",
    "backup_name_list = []\n",
    "\n",
    "for file in backup_folder_files:\n",
    "    backup_name_list.append(file.name)"
   ]
  },
  {
   "cell_type": "code",
   "execution_count": 7,
   "metadata": {},
   "outputs": [],
   "source": [
    "# save inside the respective folder\n",
    "for store in store_dictionary:\n",
    "    if store not in backup_name_list:\n",
    "        new_folder = backup_path / store\n",
    "        new_folder.mkdir()\n",
    "\n",
    "    file_name = '{}_{}_{}.xlsx'.format(indicator_day.month, indicator_day.day, store)\n",
    "\n",
    "    file_path = backup_path / store / file_name\n",
    "\n",
    "    store_dictionary[store].to_excel(file_path)\n"
   ]
  },
  {
   "cell_type": "markdown",
   "metadata": {},
   "source": [
    "### Step 4 - Calculate the indicators (Revenue from the year, revenue from the last day in dataframe, product diversity from sales and average ticket from each store)\n"
   ]
  },
  {
   "cell_type": "code",
   "execution_count": 8,
   "metadata": {},
   "outputs": [],
   "source": [
    "# Define goals\n",
    "revenue_year_goal = 1650000\n",
    "revenue_day_goal = 1000\n",
    "product_amount_year_goal = 120\n",
    "product_amount_day_goal = 4\n",
    "average_ticket_year_goal = 60000\n",
    "average_ticket_day_goal = 500\n"
   ]
  },
  {
   "cell_type": "code",
   "execution_count": 9,
   "metadata": {},
   "outputs": [],
   "source": [
    "for store in store_dictionary:\n",
    "    store_sales_year = store_dictionary[store]\n",
    "    store_sales_day = store_sales_year.loc[store_sales_year['Date']==indicator_day, :]\n",
    "\n",
    "    # Revenue indicators\n",
    "    revenue_year = store_sales_year['Final Value'].sum()\n",
    "    revenue_day = store_sales_day['Final Value'].sum()\n",
    "\n",
    "    # Product diversity indicators\n",
    "    product_amount_year = len(store_sales_year['Product'].unique())\n",
    "    product_amount_day = len(store_sales_day['Product'].unique())\n",
    "\n",
    "    # Average ticket indicators\n",
    "    sale_values_year = store_sales_year.groupby('Sale Code').sum('Final Value')\n",
    "    sale_values_day = store_sales_day.groupby('Sale Code').sum('Final Value')\n",
    "    average_ticket_year = sale_values_year['Final Value'].mean()\n",
    "    average_ticket_day = sale_values_day['Final Value'].mean()\n",
    "\n",
    "    # Send email to the store manager\n",
    "    attachment = pl.Path.cwd() / backup_path / store / '{}_{}_{}.xlsx'.format(indicator_day.month, indicator_day.day, store)\n",
    "\n",
    "    outlook = win32.Dispatch('outlook.application', pythoncom.CoInitialize())\n",
    "\n",
    "    color_revenue_day = \"green\" if revenue_day >= revenue_day_goal else \"red\"\n",
    "    color_revenue_year = \"green\" if revenue_year >= revenue_year_goal else \"red\"\n",
    "    color_diversity_day = \"green\" if product_amount_day >= product_amount_day_goal else \"red\"\n",
    "    color_diversity_year = \"green\" if product_amount_year >= product_amount_year_goal else \"red\"\n",
    "    color_ticket_day = \"green\" if average_ticket_day >= average_ticket_day_goal else \"red\"\n",
    "    color_ticket_year = \"green\" if average_ticket_year >= average_ticket_year_goal else \"red\"\n",
    "\n",
    "    name = emails.loc[emails['Store']==store, 'Manager'].values[0]\n",
    "    mail = outlook.CreateItem(0)\n",
    "    mail.To = emails.loc[emails['Store']==store, 'Email'].values[0]\n",
    "    mail.Subject = 'Indicators - Date {}/{} ({})'.format(indicator_day.month, indicator_day.day, store)\n",
    "    # Use mail.Body if you want to make a simple text mail.\n",
    "    mail.HTMLBody = f'''\n",
    "    <p>Hi {emails.loc[emails['Store']==store, 'Manager'].values[0]},</p>\n",
    "\n",
    "    <p>Attached is the financial report for the <strong>{store}</strong> store from <strong>yesterday ({indicator_day.day}/{indicator_day.month})</strong>.</p>\n",
    "\n",
    "    <p>&nbsp;</p>\n",
    "\n",
    "    <p>Here is a brief summary:</p>\n",
    "\n",
    "    <table align=\"center\" border=\"1\" cellpadding=\"1\" cellspacing=\"1\" style=\"width:500px\">\n",
    "        <thead>\n",
    "            <tr>\n",
    "                <th scope=\"col\">Indicator</th>\n",
    "                <th scope=\"col\">Day Value</th>\n",
    "                <th scope=\"col\">Day Goal</th>\n",
    "                <th scope=\"col\">Day Scenario</th>\n",
    "            </tr>\n",
    "        </thead>\n",
    "        <tbody>\n",
    "            <tr>\n",
    "                <td>\n",
    "                <p>Revenue</p>\n",
    "                </td>\n",
    "                <td style=\"text-align: center;\">R$ {revenue_day:.2f}</td>\n",
    "                <td style=\"text-align: center;\">R$ {revenue_day_goal:.2f}</td>\n",
    "                <td style=\"text-align: center;\"><font color=\"{color_revenue_day}\">◙</td>\n",
    "            </tr>\n",
    "            <tr>\n",
    "                <td>\n",
    "                <p>Product Diversity</p>\n",
    "                </td>\n",
    "                <td style=\"text-align: center;\">{product_amount_day}</td>\n",
    "                <td style=\"text-align: center;\">{product_amount_day_goal}</td>\n",
    "                <td style=\"text-align: center;\"><font color=\"{color_diversity_day}\">◙</td>\n",
    "            </tr>\n",
    "            <tr>\n",
    "                <td>\n",
    "                <p>Average Ticket</p>\n",
    "                </td>\n",
    "                <td style=\"text-align: center;\">R$ {average_ticket_day:.2f}</td>\n",
    "                <td style=\"text-align: center;\">R$ {average_ticket_day_goal:.2f}</td>\n",
    "                <td style=\"text-align: center;\"><font color=\"{color_ticket_day}\">◙</td>\n",
    "            </tr>\n",
    "        </tbody>\n",
    "    </table>\n",
    "    <br>\n",
    "    <table align=\"center\" border=\"1\" cellpadding=\"1\" cellspacing=\"1\" style=\"width:500px\">\n",
    "        <thead>\n",
    "            <tr>\n",
    "                <th scope=\"col\">Indicator</th>\n",
    "                <th scope=\"col\">Year Value</th>\n",
    "                <th scope=\"col\">Year Goal</th>\n",
    "                <th scope=\"col\">Year Scenario</th>\n",
    "            </tr>\n",
    "        </thead>\n",
    "        <tbody>\n",
    "            <tr>\n",
    "                <td>\n",
    "                <p>Revenue</p>\n",
    "                </td>\n",
    "                <td style=\"text-align: center;\">R$ {revenue_year:.2f}</td>\n",
    "                <td style=\"text-align: center;\">R$ {revenue_year_goal:.2f}</td>\n",
    "                <td style=\"text-align: center;\"><font color=\"{color_revenue_year}\">◙</td>\n",
    "            </tr>\n",
    "            <tr>\n",
    "                <td>\n",
    "                <p>Product Diversity</p>\n",
    "                </td>\n",
    "                <td style=\"text-align: center;\">{product_amount_year}</td>\n",
    "                <td style=\"text-align: center;\">{product_amount_year_goal}</td>\n",
    "                <td style=\"text-align: center;\"><font color=\"{color_diversity_year}\">◙</td>\n",
    "            </tr>\n",
    "            <tr>\n",
    "                <td>\n",
    "                <p>Average Ticket</p>\n",
    "                </td>\n",
    "                <td style=\"text-align: center;\">R$ {average_ticket_year:.2f}</td>\n",
    "                <td style=\"text-align: center;\">R$ {average_ticket_year_goal:.2f}</td>\n",
    "                <td style=\"text-align: center;\"><font color=\"{color_ticket_year}\">◙</td>\n",
    "            </tr>\n",
    "        </tbody>\n",
    "    </table>\n",
    "\n",
    "    <p>&nbsp;</p>\n",
    "\n",
    "    <hr />\n",
    "    <p style=\"text-align: center;\"><strong>Please note that this is an automated email. For any questions, please contact the headquarter.</strong></p>\n",
    "\n",
    "    <p style=\"text-align: center;\">&nbsp;</p>\n",
    "\n",
    "    <p style=\"text-align: center;\">Best regards,</p>\n",
    "\n",
    "    <p style=\"text-align: center;\">SIA - Store Indicators Automation.</p>\n",
    "    '''\n",
    "\n",
    "    attachment = pl.Path.cwd() / backup_path / store / '{}_{}_{}.xlsx'.format(indicator_day.month, indicator_day.day, store)\n",
    "    mail.Attachments.Add(str(attachment))\n",
    "\n",
    "    mail.Send()"
   ]
  },
  {
   "cell_type": "markdown",
   "metadata": {},
   "source": [
    "### Step 7 - Create ranking for the director of the company and saving to excel\n"
   ]
  },
  {
   "cell_type": "code",
   "execution_count": 10,
   "metadata": {},
   "outputs": [],
   "source": [
    "revenue_by_store = sales.groupby(\"Store\").agg({\n",
    "    \"Final Value\": \"sum\"\n",
    "})\n",
    "revenue_by_store = revenue_by_store.sort_values(by='Final Value', ascending=False)\n",
    "\n",
    "sales_day = sales.loc[sales['Date']==indicator_day , :]\n",
    "revenue_by_store_day = sales_day.groupby(\"Store\")[['Store', 'Final Value']].agg({\n",
    "    \"Final Value\": \"sum\"\n",
    "})\n",
    "revenue_by_store_day = revenue_by_store_day.sort_values(by='Final Value', ascending=False)\n",
    "\n",
    "\n",
    "annual_ranking_file_name = '{}_{}_annual_ranking.xlsx'.format(indicator_day.month, indicator_day.day)\n",
    "annual_ranking_file_path = backup_path / annual_ranking_file_name\n",
    "revenue_by_store.to_excel(annual_ranking_file_path)\n",
    "\n",
    "daily_ranking_file_name = '{}_{}_daily_ranking.xlsx'.format(indicator_day.month, indicator_day.day)\n",
    "daily_ranking_file_path = backup_path / daily_ranking_file_name\n",
    "revenue_by_store.to_excel(daily_ranking_file_path)\n"
   ]
  },
  {
   "cell_type": "markdown",
   "metadata": {},
   "source": [
    "### Step 8 - Send email to the director"
   ]
  },
  {
   "cell_type": "code",
   "execution_count": 14,
   "metadata": {},
   "outputs": [],
   "source": [
    "outlook = win32.Dispatch('outlook.application', pythoncom.CoInitialize())\n",
    "\n",
    "color_revenue_day = \"green\" if revenue_day >= revenue_day_goal else \"red\"\n",
    "color_revenue_year = \"green\" if revenue_year >= revenue_year_goal else \"red\"\n",
    "color_diversity_day = \"green\" if product_amount_day >= product_amount_day_goal else \"red\"\n",
    "color_diversity_year = \"green\" if product_amount_year >= product_amount_year_goal else \"red\"\n",
    "color_ticket_day = \"green\" if average_ticket_day >= average_ticket_day_goal else \"red\"\n",
    "color_ticket_year = \"green\" if average_ticket_year >= average_ticket_year_goal else \"red\"\n",
    "\n",
    "mail = outlook.CreateItem(0)\n",
    "mail.To = emails.loc[emails['Store']=='BOARD OF DIRECTORS', 'Email'].values[0]\n",
    "mail.Subject = 'Ranking - Date {}/{}'.format(indicator_day.month, indicator_day.day)\n",
    "mail.Body = f'''\n",
    "Dear Sirs,\n",
    "\n",
    "I hope this email finds you well.\n",
    "\n",
    "Here it is the update on our store's performance. Yesterday, {revenue_by_store_day.index[0]} achieved the highest sales, generating a total of R$ {revenue_by_store_day.iloc[0, 0]:.2f}.\n",
    "\n",
    "To provide you with a more comprehensive view of our performance, you will find attached two tables:\n",
    "\n",
    "Annual Store Ranking: This table provides a ranking of all our stores based on their year-to-date sales performance.\n",
    "Daily Store Ranking: This table presents a ranking of all our stores based on their sales performance for yesterday.\n",
    "\n",
    "Please do not reply to this email, since it is automatically sent by our automation.\n",
    "\n",
    "Best regards,\n",
    "\n",
    "SIA - Store Indicators Automation.\n",
    "'''\n",
    "\n",
    "attachment = pl.Path.cwd() / annual_ranking_file_path\n",
    "mail.Attachments.Add(str(attachment))\n",
    "attachment = pl.Path.cwd() / daily_ranking_file_path\n",
    "mail.Attachments.Add(str(attachment))\n",
    "\n",
    "mail.Send()"
   ]
  }
 ],
 "metadata": {
  "kernelspec": {
   "display_name": "Python 3",
   "language": "python",
   "name": "python3"
  },
  "language_info": {
   "codemirror_mode": {
    "name": "ipython",
    "version": 3
   },
   "file_extension": ".py",
   "mimetype": "text/x-python",
   "name": "python",
   "nbconvert_exporter": "python",
   "pygments_lexer": "ipython3",
   "version": "3.11.5"
  }
 },
 "nbformat": 4,
 "nbformat_minor": 2
}
